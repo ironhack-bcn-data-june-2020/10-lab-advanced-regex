{
 "cells": [
  {
   "cell_type": "markdown",
   "metadata": {},
   "source": [
    "# Advanced Regular Expressions Lab\n",
    "\n",
    "Complete the following set of exercises to solidify your knowledge of regular expressions."
   ]
  },
  {
   "cell_type": "code",
   "execution_count": 134,
   "metadata": {},
   "outputs": [],
   "source": [
    "import re"
   ]
  },
  {
   "cell_type": "markdown",
   "metadata": {},
   "source": [
    "### 1. Use a regular expression to find and extract all vowels in the following text."
   ]
  },
  {
   "cell_type": "code",
   "execution_count": 135,
   "metadata": {},
   "outputs": [],
   "source": [
    "text = \"This is going to be a sentence with a good number of vowels in it.\""
   ]
  },
  {
   "cell_type": "code",
   "execution_count": 204,
   "metadata": {},
   "outputs": [
    {
     "name": "stdout",
     "output_type": "stream",
     "text": [
      "['e', 'e', 'o', 'o', 'o', 'u', 'e', 'a', 'e', 'o', 'e', 'o', 'i', 'a', 'a', 'u', 'i', 'e', 'a', 'i', 'i', 'e']\n"
     ]
    }
   ],
   "source": [
    "#mostramos las vocales de toda la frase\n",
    "print(re.findall(\"[aeiou]\", text))"
   ]
  },
  {
   "cell_type": "code",
   "execution_count": 137,
   "metadata": {},
   "outputs": [
    {
     "name": "stdout",
     "output_type": "stream",
     "text": [
      "Ths s gng t b  sntnc wth  gd nmbr f vwls n t.\n"
     ]
    }
   ],
   "source": [
    "#sacamos las vocales de toda la frase\n",
    "print(re.sub(\"[aeiou]\",\"\", text))"
   ]
  },
  {
   "cell_type": "markdown",
   "metadata": {},
   "source": [
    "### 2. Use a regular expression to find and extract all occurrences and tenses (singular and plural) of the word \"puppy\" in the text below."
   ]
  },
  {
   "cell_type": "code",
   "execution_count": 138,
   "metadata": {},
   "outputs": [],
   "source": [
    "text = \"The puppy saw all the rest of the puppies playing and wanted to join them. I saw this and wanted a puppy of my own!\""
   ]
  },
  {
   "cell_type": "code",
   "execution_count": 139,
   "metadata": {},
   "outputs": [
    {
     "data": {
      "text/plain": [
       "['puppy', 'puppies', 'puppy']"
      ]
     },
     "execution_count": 139,
     "metadata": {},
     "output_type": "execute_result"
    }
   ],
   "source": [
    "match=re.findall(r\"(puppy|puppies)\",text)\n",
    "match"
   ]
  },
  {
   "cell_type": "code",
   "execution_count": 140,
   "metadata": {},
   "outputs": [
    {
     "name": "stdout",
     "output_type": "stream",
     "text": [
      "<re.Match object; span=(4, 9), match='puppy'>\n",
      "<re.Match object; span=(99, 104), match='puppy'>\n"
     ]
    }
   ],
   "source": [
    "for match in re.finditer(\"puppy\",text):\n",
    "    print(match)"
   ]
  },
  {
   "cell_type": "markdown",
   "metadata": {},
   "source": [
    "### 3. Use a regular expression to find and extract all tenses (present and past) of the word \"run\" in the text below."
   ]
  },
  {
   "cell_type": "code",
   "execution_count": 141,
   "metadata": {},
   "outputs": [],
   "source": [
    "text = \"I ran the relay race the only way I knew how to run it.\""
   ]
  },
  {
   "cell_type": "code",
   "execution_count": 142,
   "metadata": {},
   "outputs": [],
   "source": [
    "#no entiendo pq no funciona si lo hago así\n",
    "match_verb1=re.findall(r\"r(un|an)\", text)"
   ]
  },
  {
   "cell_type": "code",
   "execution_count": 143,
   "metadata": {},
   "outputs": [
    {
     "data": {
      "text/plain": [
       "['an', 'un']"
      ]
     },
     "execution_count": 143,
     "metadata": {},
     "output_type": "execute_result"
    }
   ],
   "source": [
    "match_verb1"
   ]
  },
  {
   "cell_type": "code",
   "execution_count": 144,
   "metadata": {},
   "outputs": [],
   "source": [
    "#también podemos hacerlo así\n",
    "match_verb2=re.findall(r\"(run|ran)\", text)"
   ]
  },
  {
   "cell_type": "code",
   "execution_count": 145,
   "metadata": {},
   "outputs": [
    {
     "data": {
      "text/plain": [
       "['ran', 'run']"
      ]
     },
     "execution_count": 145,
     "metadata": {},
     "output_type": "execute_result"
    }
   ],
   "source": [
    "match_verb2"
   ]
  },
  {
   "cell_type": "markdown",
   "metadata": {},
   "source": [
    "### 4. Use a regular expression to find and extract all words that begin with the letter \"r\" from the previous text."
   ]
  },
  {
   "cell_type": "code",
   "execution_count": 148,
   "metadata": {},
   "outputs": [],
   "source": [
    "match_r=re.findall(r\"[r]\\w+\", text)"
   ]
  },
  {
   "cell_type": "code",
   "execution_count": 149,
   "metadata": {},
   "outputs": [
    {
     "data": {
      "text/plain": [
       "['ran', 'relay', 'race', 'run']"
      ]
     },
     "execution_count": 149,
     "metadata": {},
     "output_type": "execute_result"
    }
   ],
   "source": [
    "match_r"
   ]
  },
  {
   "cell_type": "markdown",
   "metadata": {},
   "source": [
    "### 5. Use a regular expression to find and substitute the letter \"i\" for the exclamation marks in the text below."
   ]
  },
  {
   "cell_type": "code",
   "execution_count": 150,
   "metadata": {},
   "outputs": [],
   "source": [
    "text = \"Th!s !s a sentence w!th spec!al characters !n !t.\""
   ]
  },
  {
   "cell_type": "code",
   "execution_count": 151,
   "metadata": {},
   "outputs": [
    {
     "data": {
      "text/plain": [
       "'This is a sentence with special characters in it.'"
      ]
     },
     "execution_count": 151,
     "metadata": {},
     "output_type": "execute_result"
    }
   ],
   "source": [
    "re.sub(r'[!]','i', text)"
   ]
  },
  {
   "cell_type": "markdown",
   "metadata": {},
   "source": [
    "### 6. Use a regular expression to find and extract words longer than 4 characters in the text below."
   ]
  },
  {
   "cell_type": "code",
   "execution_count": 153,
   "metadata": {},
   "outputs": [],
   "source": [
    "text = \"This sentence has words of varying lengths.\""
   ]
  },
  {
   "cell_type": "code",
   "execution_count": 248,
   "metadata": {},
   "outputs": [
    {
     "data": {
      "text/plain": [
       "['robot', 'couldn', 'beat', 'other', 'with', 'instead']"
      ]
     },
     "execution_count": 248,
     "metadata": {},
     "output_type": "execute_result"
    }
   ],
   "source": [
    "re.findall(r\"\\w{4,}\", text)"
   ]
  },
  {
   "cell_type": "markdown",
   "metadata": {},
   "source": [
    "### 7. Use a regular expression to find and extract all occurrences of the letter \"b\", some letter(s), and then the letter \"t\" in the sentence below."
   ]
  },
  {
   "cell_type": "code",
   "execution_count": 322,
   "metadata": {},
   "outputs": [],
   "source": [
    "text = \"I bet the robot couldn't beat the other bot with a bat, but instead it bit me.\""
   ]
  },
  {
   "cell_type": "code",
   "execution_count": 334,
   "metadata": {},
   "outputs": [
    {
     "data": {
      "text/plain": [
       "['bet', 'bot', 'beat', 'bot', 'bat', 'but', 'bit']"
      ]
     },
     "execution_count": 334,
     "metadata": {},
     "output_type": "execute_result"
    }
   ],
   "source": [
    "re.findall(r\"[b]\\w*\", text)"
   ]
  },
  {
   "cell_type": "code",
   "execution_count": 335,
   "metadata": {},
   "outputs": [
    {
     "data": {
      "text/plain": [
       "['t',\n",
       " 'the',\n",
       " 't',\n",
       " 't',\n",
       " 't',\n",
       " 'the',\n",
       " 'ther',\n",
       " 't',\n",
       " 'th',\n",
       " 't',\n",
       " 't',\n",
       " 'tead',\n",
       " 't',\n",
       " 't']"
      ]
     },
     "execution_count": 335,
     "metadata": {},
     "output_type": "execute_result"
    }
   ],
   "source": [
    "re.findall(r\"[t]\\w*\", text)"
   ]
  },
  {
   "cell_type": "markdown",
   "metadata": {},
   "source": [
    "### 8. Use a regular expression to find and extract all words that contain either \"ea\" or \"eo\" in them."
   ]
  },
  {
   "cell_type": "code",
   "execution_count": 312,
   "metadata": {},
   "outputs": [],
   "source": [
    "text = \"During many of the peaks and troughs of history, the people living it didn't fully realize what was unfolding. But we all know we're navigating breathtaking history: Nearly every day could be — maybe will be — a book.\"\n"
   ]
  },
  {
   "cell_type": "code",
   "execution_count": 316,
   "metadata": {},
   "outputs": [
    {
     "data": {
      "text/plain": [
       "['eak', 'eop', 'eal', 'eat', 'ear']"
      ]
     },
     "execution_count": 316,
     "metadata": {},
     "output_type": "execute_result"
    }
   ],
   "source": [
    "#igual que ejercicio 6 y 7, no se si debería imprimir toda la pablaba y como hacerlo\n",
    "re.findall(r\"ea\\w|eo\\w\", text)"
   ]
  },
  {
   "cell_type": "markdown",
   "metadata": {},
   "source": [
    "### 9. Use a regular expression to find and extract all the capitalized words in the text below individually."
   ]
  },
  {
   "cell_type": "code",
   "execution_count": 342,
   "metadata": {},
   "outputs": [],
   "source": [
    "text = \"Teddy Roosevelt and Abraham Lincoln walk into a bar.\""
   ]
  },
  {
   "cell_type": "code",
   "execution_count": 343,
   "metadata": {},
   "outputs": [
    {
     "data": {
      "text/plain": [
       "['Teddy', 'Roosevelt', 'Abraham', 'Lincoln']"
      ]
     },
     "execution_count": 343,
     "metadata": {},
     "output_type": "execute_result"
    }
   ],
   "source": [
    "re.findall(r\"[A-Z]\\w*\", text)"
   ]
  },
  {
   "cell_type": "markdown",
   "metadata": {},
   "source": [
    "### 10. Use a regular expression to find and extract all the sets of consecutive capitalized words in the text above."
   ]
  },
  {
   "cell_type": "code",
   "execution_count": 368,
   "metadata": {},
   "outputs": [
    {
     "data": {
      "text/plain": [
       "['Teddy', 'Roosevelt', 'Abraham', 'Lincoln']"
      ]
     },
     "execution_count": 368,
     "metadata": {},
     "output_type": "execute_result"
    }
   ],
   "source": [
    "#????\n",
    "re.findall(r\"[A-Z]\\w*\", text)"
   ]
  },
  {
   "cell_type": "markdown",
   "metadata": {},
   "source": [
    "### 11. Use a regular expression to find and extract all the quotes from the text below.\n",
    "\n",
    "*Hint: This one is a little more complex than the single quote example in the lesson because there are multiple quotes in the text.*"
   ]
  },
  {
   "cell_type": "code",
   "execution_count": 408,
   "metadata": {},
   "outputs": [],
   "source": [
    "text = 'Roosevelt says to Lincoln, \"I will bet you $50 I can get the bartender to give me a free drink.\" Lincoln says, \"I am in!\"'"
   ]
  },
  {
   "cell_type": "code",
   "execution_count": null,
   "metadata": {},
   "outputs": [],
   "source": [
    "#???"
   ]
  },
  {
   "cell_type": "markdown",
   "metadata": {},
   "source": [
    "### 12. Use a regular expression to find and extract all the numbers from the text below."
   ]
  },
  {
   "cell_type": "code",
   "execution_count": 369,
   "metadata": {},
   "outputs": [],
   "source": [
    "text = \"There were 30 students in the class. Of the 30 students, 14 were male and 16 were female. Only 10 students got A's on the exam.\"\n"
   ]
  },
  {
   "cell_type": "code",
   "execution_count": 370,
   "metadata": {},
   "outputs": [
    {
     "data": {
      "text/plain": [
       "['30', '30', '14', '16', '10']"
      ]
     },
     "execution_count": 370,
     "metadata": {},
     "output_type": "execute_result"
    }
   ],
   "source": [
    "re.findall(r\"[0-9]\\w*\", text)"
   ]
  },
  {
   "cell_type": "markdown",
   "metadata": {},
   "source": [
    "### 13. Use a regular expression to find and extract all the social security numbers from the text below."
   ]
  },
  {
   "cell_type": "code",
   "execution_count": 414,
   "metadata": {},
   "outputs": [],
   "source": [
    "text = \"\"\"\n",
    "Henry's social security number is 876-93-2289 and his phone number is (847)789-0984.\n",
    "Darlene's social security number is 098-32-5295 and her phone number is (987)222-0901.\n",
    "\"\"\""
   ]
  },
  {
   "cell_type": "code",
   "execution_count": 415,
   "metadata": {},
   "outputs": [
    {
     "data": {
      "text/plain": [
       "['876-93-2289', '098-32-5295']"
      ]
     },
     "execution_count": 415,
     "metadata": {},
     "output_type": "execute_result"
    }
   ],
   "source": [
    "re.findall(r\"\\d{3}-\\d{2}-\\d{4}\", text)"
   ]
  },
  {
   "cell_type": "markdown",
   "metadata": {},
   "source": [
    "### 14. Use a regular expression to find and extract all the phone numbers from the text above."
   ]
  },
  {
   "cell_type": "code",
   "execution_count": 454,
   "metadata": {},
   "outputs": [
    {
     "data": {
      "text/plain": [
       "['(847)789-0984', '(987)222-0901']"
      ]
     },
     "execution_count": 454,
     "metadata": {},
     "output_type": "execute_result"
    }
   ],
   "source": [
    "re.findall(r'[\\(][0-9][0-9.\\-\\(\\)]{10}[0-9]', text)"
   ]
  },
  {
   "cell_type": "markdown",
   "metadata": {},
   "source": [
    "### 15. Use a regular expression to find and extract all the formatted numbers (both social security and phone) from the text above."
   ]
  },
  {
   "cell_type": "code",
   "execution_count": 418,
   "metadata": {},
   "outputs": [
    {
     "data": {
      "text/plain": [
       "['876-93-2289', '(847)789-0984', '98-32-5295', '(987)222-0901']"
      ]
     },
     "execution_count": 418,
     "metadata": {},
     "output_type": "execute_result"
    }
   ],
   "source": [
    "\n",
    "re.findall(r'[\\+\\(]?[1-9][0-9 .\\-\\(\\)]{8,}[0-9]', text)"
   ]
  }
 ],
 "metadata": {
  "kernelspec": {
   "display_name": "Python 3",
   "language": "python",
   "name": "python3"
  },
  "language_info": {
   "codemirror_mode": {
    "name": "ipython",
    "version": 3
   },
   "file_extension": ".py",
   "mimetype": "text/x-python",
   "name": "python",
   "nbconvert_exporter": "python",
   "pygments_lexer": "ipython3",
   "version": "3.7.7"
  }
 },
 "nbformat": 4,
 "nbformat_minor": 2
}
